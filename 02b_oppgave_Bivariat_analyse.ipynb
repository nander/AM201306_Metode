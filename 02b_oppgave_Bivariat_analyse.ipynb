{
 "cells": [
  {
   "cell_type": "markdown",
   "id": "072035be-26ed-41ce-891e-6046da2f0ca3",
   "metadata": {},
   "source": [
    "# Arbeidsark: bivariat Dataanalyse i Python\n",
    "\n",
    "## Målsetninger:\n",
    "- Laste inn et datasett fra en CSV-fil\n",
    "- Gjennomføre bivariat analyse\n",
    "  - kryss tabulering \n",
    "  - korrelasjonsanalyse \n",
    "  - uavhengige t-test\n",
    "- Visualisere bivariate sammenhenger \n",
    "\n",
    "## Oppgaver for modulen \n",
    "- Last inn datasettet og inspiser de første radene.\n",
    "- Klassifiser variablene som numeriske eller kategoriske.\n",
    "- Beregn beskrivende statistikk for én numerisk variabel.\n",
    "- Visualiser den valgte variabelen med en passende plot.\n",
    "- Lag en ny variabel basert på eksisterende variabler.\n",
    "- Lagre det modifiserte datasettet.\n",
    "\n",
    "### Aller første du må gjøre, er å importere biblioteker som skal brukes"
   ]
  },
  {
   "cell_type": "code",
   "execution_count": null,
   "id": "c94b5e2a-618f-4b70-8353-f422f6493494",
   "metadata": {},
   "outputs": [],
   "source": [
    "# Step 1: Import Necessary Libraries\n",
    "import pandas as pd\n",
    "import numpy as np\n",
    "import matplotlib.pyplot as plt\n",
    "import seaborn as sns\n",
    "from scipy.stats import ttest_ind\n",
    "\n"
   ]
  },
  {
   "cell_type": "markdown",
   "id": "5859126a-fa52-4653-aba4-b0b650f1a2d6",
   "metadata": {},
   "source": [
    "## 1. Last inn datasettet\n",
    "(Husk å kjør koden i data-cellene for å få resultater. Dette gjøres ved å sette markøren i cellen, og enten klikke [ctrl]+[enter] på tastaturet, eller klikke \"play\" knappen på menyen over."
   ]
  },
  {
   "cell_type": "code",
   "execution_count": null,
   "id": "994aed35-3bed-43f3-bd51-f9e810b4d692",
   "metadata": {},
   "outputs": [],
   "source": [
    "# Load the dataset from a CSV file\n",
    "# Replace 'your_file.csv' with the path to your dataset\n",
    "file_path = 'Filnavn'\n",
    "data = pd.read_csv(file_path)\n",
    "\n",
    "# Display the first few rows of the dataset\n",
    "data.head()"
   ]
  },
  {
   "cell_type": "markdown",
   "id": "447bf1f1-dc31-4167-9818-59e419b45148",
   "metadata": {},
   "source": [
    "## 1b: Still noen forskningsspørsmål\n",
    "Se på variablene, og lag noen aktuelle forsknignsspørsmål. Husk på kravene til gode spørsmål. \n",
    "Et slik kan være: \"Er det forskjell på lønn for menn og kvinner?\" "
   ]
  },
  {
   "cell_type": "markdown",
   "id": "d8be9859-29a6-48b7-ac8b-461dc190bbd2",
   "metadata": {},
   "source": [
    "### skriv inn spørsmål her: \n",
    "\n",
    "......\n"
   ]
  },
  {
   "cell_type": "markdown",
   "id": "866ffa66-1902-4230-91ea-10f4290c9a80",
   "metadata": {},
   "source": [
    "## 2. Krysstabeller\n",
    "Krysstabeller brukes til å analysere sammenhengen mellom to kategoriske variabler.\n",
    "\n",
    "### oppgave:\n",
    "Utfør krysstabellanalyse for to kategoriske variabler etter eget valg, og visualiser sammenhengen med et varmekart.\n"
   ]
  },
  {
   "cell_type": "code",
   "execution_count": null,
   "id": "c6646b52-f830-4e90-b0e2-f70975eb4e9c",
   "metadata": {},
   "outputs": [],
   "source": [
    "# Create a cross table for two categorical variables\n",
    "# Replace 'category1' and 'category2' with variable names\n",
    "cross_tab = pd.crosstab(data['Navn Kategorisk variabel 1'], data['Navn Kategorisk variabel 2'])\n",
    "print(\"Cross Table:\")\n",
    "print(cross_tab)\n",
    "\n",
    "# Visualize the cross table as a heatmap\n",
    "plt.figure(figsize=(8, 6))\n",
    "sns.heatmap(cross_tab, annot=True, cmap=\"YlGnBu\", fmt=\"d\")\n",
    "plt.title(\"Cross Table Heatmap\")\n",
    "plt.xlabel(\"Category 2\")\n",
    "plt.ylabel(\"Category 1\")\n",
    "plt.show()"
   ]
  },
  {
   "cell_type": "markdown",
   "id": "a7d44669-4309-4dad-a562-3e160e8636ae",
   "metadata": {},
   "source": [
    "## 3. Korrelasjonsanalyse\n",
    "Korrelasjon måler styrken og retningen på sammenhengen mellom to numeriske variabler.\n",
    "### oppgave:\n",
    "Beregn korrelasjon mellom to numeriske variabler, og visualiser sammenhengen ved hjelp av et spredningsplott."
   ]
  },
  {
   "cell_type": "code",
   "execution_count": null,
   "id": "920c4497-7a3a-40b3-8447-c8f1089f2eeb",
   "metadata": {},
   "outputs": [],
   "source": [
    "from scipy.stats import pearsonr\n",
    "# Compute the correlation between two numerical variables\n",
    "# Replace 'numerical1' and 'numerical2' with column names\n",
    "numerical1 = 'Navn variabel 1'\n",
    "numerical2 = 'Navn variabel 2'\n",
    "\n",
    "corr, p_value = pearsonr(data[numerical1], data[numerical2])\n",
    "print(f\"\\nCorrelation between PerfScoreID and Salary: {corr}\")\n",
    "print(f\"p-value: {p_value}\")\n",
    "if p_value < 0.01:\n",
    "      print(\"The correlation is statistically significant at the 0.01 level.\")\n",
    "      print(\"      \")\n",
    "else:\n",
    "      print(\"The correlation is not statistically significant at the 0.01 level.\")\n",
    "\n",
    "# Visualize the relationship with a scatter plot\n",
    "plt.figure(figsize=(8, 6))\n",
    "sns.scatterplot(x=data[numerical1], y=data[numerical2])\n",
    "plt.title(f\"Scatter Plot: {numerical1} vs {numerical2}\")\n",
    "plt.xlabel(numerical1)\n",
    "plt.ylabel(numerical2)\n",
    "plt.show()"
   ]
  },
  {
   "cell_type": "markdown",
   "id": "07dc12bc-5cd6-4094-9c7d-ba8441be1e90",
   "metadata": {},
   "source": [
    "## 4. T-test for uavhengige utvalg\n",
    "### Histogram for numeriske data\n",
    "T-tester sammenligner gjennomsnittene for to uavhengige grupper for en numerisk variabel.\n",
    "\n",
    "### oppgave:\n",
    "Utfør en t-test for uavhengige utvalg for å avgjøre om det er en signifikant forskjell mellom to grupper for en numerisk variabel. En av analysene skal være på kjønn.\n",
    "Tolk resultatene"
   ]
  },
  {
   "cell_type": "code",
   "execution_count": null,
   "id": "3d8cd395-c795-43e8-89ca-cc6d37827eaf",
   "metadata": {},
   "outputs": [],
   "source": [
    "# Perform a t-test for two groups in a categorical variable and a numerical variable\n",
    "# Replace 'numerical' with the numerical variable name and 'category' with the categorical variable name\n",
    "numerical = 'Navn numerisk variabel 1'\n",
    "category = 'Navn Kategorisk variabel 1'\n",
    "\n",
    "# Ensure the categorical variable has exactly two groups (Hint: pass på å definer hva hver av verdiene heter i datasettet)\n",
    "group1 = data[data[category] == 'verdi 1'][numerical]\n",
    "group2 = data[data[category] == 'Verdi 2'][numerical]\n",
    "\n",
    "# Perform the t-test\n",
    "t_stat, p_value = ttest_ind(group1, group2, nan_policy='omit')\n",
    "print(f\"T-Statistic: {t_stat}\")\n",
    "print(f\"P-Value: {p_value}\")\n",
    "\n",
    "# Visualize the group differences with a boxplot\n",
    "# Custom colors for the boxplot\n",
    "custom_palette = {'Verdi 1': 'lightblue', 'verdi 2': 'orange'}\n",
    "plt.figure(figsize=(8, 6))\n",
    "sns.boxplot(x=category, y=numerical,hue=category, data=data, palette=custom_palette)\n",
    "plt.title(f\"Boxplot of {numerical} by {category}\")\n",
    "plt.xlabel(category)\n",
    "plt.ylabel(numerical)\n",
    "plt.show()"
   ]
  },
  {
   "cell_type": "markdown",
   "id": "52e390d4-572c-406d-8e5a-6308f2406882",
   "metadata": {},
   "source": [
    "## 5. Chi-Squared test for to kategoriske variabler\n",
    "Chi-Squared tester for sammenhenger mellom to kategoriske variabler. \n",
    "\n",
    "### Oppgave\n",
    "Finn minst to kategoriske variabler og test for en sammenheng"
   ]
  },
  {
   "cell_type": "code",
   "execution_count": null,
   "id": "1571d7fc-d182-43c3-9f43-fc2e44ad017e",
   "metadata": {},
   "outputs": [],
   "source": [
    "from scipy.stats import chi2_contingency\n",
    "\n",
    "# Create a contingency table (cross-tabulation) for two categorical variables\n",
    "# Replace 'category1' and 'category2' with column names\n",
    "category1 = 'Navn Kategorisk variabel 1'\n",
    "category2 = 'Navn Kategorisk variabel 2'\n",
    "\n",
    "contingency_table = pd.crosstab(data[category1], data[category2])\n",
    "\n",
    "# Perform the chi-squared test\n",
    "chi2, p_value, dof, expected = chi2_contingency(contingency_table)\n",
    "\n",
    "# Display results\n",
    "print(\"Chi-Squared Test Results\")\n",
    "print(f\"Chi-squared statistic: {chi2}\")\n",
    "print(f\"P-value: {p_value}\")\n",
    "print(f\"Degrees of freedom: {dof}\")\n",
    "print(\"Expected frequencies:\")\n",
    "print(expected)\n",
    "\n",
    "# Interpret the result\n",
    "if p_value < 0.05:\n",
    "    print(\"There is a statistically significant association between the variables (p < 0.05).\")\n",
    "else:\n",
    "    print(\"There is no statistically significant association between the variables (p ≥ 0.05).\")"
   ]
  },
  {
   "cell_type": "markdown",
   "id": "a357e3f7-922b-49d5-a3ca-6068f4e2a390",
   "metadata": {},
   "source": [
    "## 6. Drøft innsikter\n",
    "I analysene over, bør du ha fått noen innsikter fra analysene, og tolk visualiseringene. Presenter disse her: \n",
    "(Hint: hva ser du om sammenheng mellom forskjellige typer variabler: kategoriske, numeriske, m.m. om variablene du så på?)\n",
    "Sørg for at du har svart på spørsmålene du stilte øverst. \n",
    "\n",
    "### Skriv svaret her\n",
    "..."
   ]
  }
 ],
 "metadata": {
  "kernelspec": {
   "display_name": "Python 3 (ipykernel)",
   "language": "python",
   "name": "python3"
  },
  "language_info": {
   "codemirror_mode": {
    "name": "ipython",
    "version": 3
   },
   "file_extension": ".py",
   "mimetype": "text/x-python",
   "name": "python",
   "nbconvert_exporter": "python",
   "pygments_lexer": "ipython3",
   "version": "3.12.8"
  }
 },
 "nbformat": 4,
 "nbformat_minor": 5
}
