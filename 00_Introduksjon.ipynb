{
 "cells": [
  {
   "attachments": {},
   "cell_type": "markdown",
   "id": "c109843e-3c9b-4683-bc2e-8b874417f362",
   "metadata": {},
   "source": [
    "# Øvingsoppgaver for kvantitative analyser i Python\n",
    "\n",
    "Hei og velkommen til øving i kvantitative analyser i Python, i Kvantitative og kvalitative metoder. I disse øvingene vil vi gå gjennom de grunnleggende temaene som kreves for å kunne begynne å bruke Python til å løse statistisk analyse . Nedenfor ser du en oversikt over læringsmål for øvingene, samt informasjon om de forskjellige oppgavene.\n",
    "\n",
    "## Læringsmål:\n",
    "* Bli kjent med Jupyter Lab som programmeringsmiljø.\n",
    "* Forstå hvordan utforske en datafil, og hente ut informasjon fra den \n",
    "* Kunne bruke vanlige analyser i Python: univariat, bivariat og multivariat analyse \n",
    "* Kunne få ut grafisk representasjon av resultater\n",
    "* Kunne lage en syntax/script som dokumenterer hvordan du har kommet frem til statistiske resultater\n",
    "\n",
    "\n",
    "## Om oppgavene:\n",
    "Oppgaver markert som \"grunnleggende\" dekker tema som er regnet som kjernepensum, og er nødvendig å beherske for å gå videre med neste tema. Andre oppgaver vil absolutt styrke forståelsen for faget, og kan ofte være mer spennende å jobbe med, men er i større grad frivillig å arbeide med. \n",
    "\n",
    "Det er fire moduler, som vist i tabellen under. For hver modul, er det en side med nyttig kode for analyse i den gitte modulen. Det er også en side med oppgaver for hver modul. \n",
    "\n",
    "Modul| Tittel | Tema | Merknad |  Poeng\n",
    "--- |--- | --- | --- | ---\n",
    "0|[Intro til Jupyter](01_Univariat_analyse.ipynb)|Grunnleggende om jupyter notebooks|Grunnleggende | 10\n",
    "1|[Univariat analyse](01_Univariat_analyse.ipynb)|Informasjonsark: deskripitv statistikk på enkelt variabler  |Grunnleggende| 10\n",
    "1b|[Univariat analyse](01b_oppgave_Univariat_analyse.ipynb)|Oppgave: Kjøre deskripitv statistikk på enkelt variabler  |Grunnleggende| 10\n",
    "2|[Bivariat analyse og hypotesetesting](02_Bivariat_analyse_og_hypotesetesting.ipynb)|Informasjonsark: Kjøre analyser på forhold mellom to variabler |Grunnleggende| 10\n",
    "2b|[Bivariat analyse og hypotesetesting](02b_oppgave_Bivariat_analyse.ipynb)|Oppgave: Kjøre analyser på forhold mellom to variabler |Grunnleggende| 10\n",
    "3|[Korrelasjon og varians analyse (ANOVA)](03_Korrelasjonsanalyse_og_variansanalyse_ANOVA.ipynb)|Informasjonsark: Kjøre Analyser på samvariasjon på to variabler og teste samvarians |Grunnleggende| 10\n",
    "3b|[Korrelasjon og varians analyse (ANOVA)](03b_oppgave_ANOVA_Bivariat.ipynb)|Oppgave: Kjøre Analyser på samvariasjon på to variabler og teste samvarians |Grunnleggende| 10\n",
    "4|[Mulipple regresjonsanalyse](04_Multippel_regresjonsanalyse.ipynb)|Informasjonsark: Analysere hvordan flere variabler predikerer en utfallsvariabel | Grunnleggende | 10\n",
    "4b|[Mulipple regresjonsanalyse](04b_oppgave_Multipplel_regresjon.ipynb)|Oppgave: Analysere hvordan flere variabler predikerer en utfallsvariabel | Grunnleggende | 10\n"
   ]
  }
 ],
 "metadata": {
  "kernelspec": {
   "display_name": "Python 3 (ipykernel)",
   "language": "python",
   "name": "python3"
  },
  "language_info": {
   "codemirror_mode": {
    "name": "ipython",
    "version": 3
   },
   "file_extension": ".py",
   "mimetype": "text/x-python",
   "name": "python",
   "nbconvert_exporter": "python",
   "pygments_lexer": "ipython3",
   "version": "3.12.8"
  }
 },
 "nbformat": 4,
 "nbformat_minor": 5
}
