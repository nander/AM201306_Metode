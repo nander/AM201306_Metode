{
 "cells": [
  {
   "attachments": {},
   "cell_type": "markdown",
   "id": "c109843e-3c9b-4683-bc2e-8b874417f362",
   "metadata": {},
   "source": [
    "<nav class=\"navbar navbar-default\">\n",
    "  <div class=\"container-fluid\">\n",
    "    <div class=\"navbar-header\" style=\"float: left\">\n",
    "        <a class=\"navbar-brand\" href=\"00_Introduksjon.ipynb\" target=\"_self\"> <h2> &uarr; Tilbake til forsiden</h2></a>\n",
    "    </div>\n",
    "  </div>\n",
    "</nav>"
   ]
  },
  {
   "cell_type": "markdown",
   "id": "6c657635-1271-4fac-a0e3-e95f2097fa89",
   "metadata": {},
   "source": [
    "# Introduksjon til Jupyter\n",
    "\n",
    "Hei, og velkommen til Jupyter, en måte å skrive kode for å analysere data! Jupyter er et system som lar deg lage dokumenter som inneholder både tekst og programkode på en gang. Det fine her er at du kan kjøre programkoden inne i samme dokumentet som oppgaveteksten, og se resultatet umiddelbart. I denne oppgaven skal vi lære om hvordan man skriver et program i Jupyter, og få en smakebit på noen grunnleggende prinsipp i Python.\n",
    "\n",
    "## Kodeceller\n",
    "\n",
    "Noe av det første vi må lære oss er å kjøre en kodecelle. Dersom du trykker en plass på programkoden nedenfor for å velge cellen, kan hele cellen kjøres ved å trykke på $\\blacktriangleright$-knappen oppe i verktøylinjen, eller med hurtigtastkombinasjonen `ctrl + enter` (PC) / `cmd + enter` (Mac). \n"
   ]
  },
  {
   "cell_type": "code",
   "execution_count": 1,
   "id": "ae72ef00-49b8-485f-8eee-dbe1fa64bb01",
   "metadata": {},
   "outputs": [
    {
     "name": "stdout",
     "output_type": "stream",
     "text": [
      "Velkommen til en intro til Jupyter!\n"
     ]
    }
   ],
   "source": [
    "print(\"Velkommen til en intro til Jupyter!\")  # Skriver ut en beskjed!"
   ]
  },
  {
   "cell_type": "markdown",
   "id": "a2b4a02d-1e19-43b1-9a87-06b818161aa2",
   "metadata": {},
   "source": [
    "En kodecelle vil altså alltid vise resultatet fra den aller siste linjen i kodecellen som et \"Output\" i dokumentet. Dette kan være nyttig dersom man bruker jupyter litt som en kalkulator, da vi kan skrive koden for en matematisk utregning og få resultatet med en gang ved å kjøre cellen.\n",
    "\n",
    "### a) enkel utregning i jupyter\n",
    "Bruk kodecellen nedenfor til å utføre addisjonen `5 + 10`.\n",
    "\n",
    "*P.S. symbolet `+` betyr addisjon i Python* "
   ]
  },
  {
   "cell_type": "code",
   "execution_count": 10,
   "id": "98af9fc1-c6a9-4e63-a8b9-797532fb0c87",
   "metadata": {},
   "outputs": [
    {
     "name": "stdout",
     "output_type": "stream",
     "text": [
      "summen er 15\n"
     ]
    }
   ],
   "source": [
    "a = 5\n",
    "b = 10\n",
    "result = a + b\n",
    "print(\"summen er\", result)  # Skriver ut en beskjed!"
   ]
  },
  {
   "cell_type": "markdown",
   "id": "bfcdf7c5-d0c5-4fae-9666-a66e9016cf38",
   "metadata": {},
   "source": [
    "## Utskrift fra program\n",
    "\n",
    "Ofte er det ønskelig at programmet skriver ut mer enn bare resultatet fra siste kodelinje i cellen. Det kan for eksempel være ønskelig å tilføye forklarende tekst som forteller hva en tallverdi representerer. I tillegg er det svært nyttig å kunne skrive ut meldinger underveis i programmet, og ikke bare på slutten. \n",
    "\n",
    "Til dette formålet har python en funkson som heter `print` som vi kan bruke. Det gjøres ved å skrive nøkkelordet *print*, og deretter omslutte ønsket utskrift med paranteser. Dersom vi ønsker å skrive ut tekst, gjøres dette ved å omslutte teksten med hermetgn `\"`, eller enkelt apostrof `'`. Når vi gjør dette lager vi det som kalles en ***streng***. I tillegg er det mulig å kombinere utskrift av tall/utregninger og forklarende tekst ved å lage en såkalt `f-string` som forklart under.\n",
    "\n",
    "Nedenfor ser du en rekke eksempel med bruk av `print()`. Kjør cellen og studer hva som blir skrevet ut.\n",
    "\n"
   ]
  },
  {
   "cell_type": "code",
   "execution_count": 11,
   "id": "f3977701-2e3b-4b5c-ba8c-7a3c1ba02940",
   "metadata": {},
   "outputs": [
    {
     "name": "stdout",
     "output_type": "stream",
     "text": [
      "Vi ønsker å regne ut 6*2\n",
      "12\n",
      "Hva med litt forklarende tekst?\n",
      "6 ganger 2 er lik  12\n"
     ]
    }
   ],
   "source": [
    "print(\"Vi ønsker å regne ut 6*2\")\n",
    "print(6 * 2)\n",
    "print(\"Hva med litt forklarende tekst?\")\n",
    "print(f\"6 ganger 2 er lik  {6*2}\")"
   ]
  },
  {
   "cell_type": "markdown",
   "id": "19fef833-5d3c-4492-85f0-666bac39c8b9",
   "metadata": {},
   "source": [
    "#### Om f-strings\n",
    "Som man kan se i den siste linjen i kodecellen over så starter teksten med en `f` før hermetegnene `\"` i den siste print-setningen. Dette er en spesiell måte å lage en tekststreng på, som lar oss enkelt inkludere resultatet fra regneoperasjoner eller variabler (som vi skal lære om i neste oppgave) i teksten ved å omslutte med krøllparantes `{}`. Merk at når teksten skrives ut, er det *resultatet* av regneoperasjonen som skrives ut og ikke `6*2`."
   ]
  },
  {
   "cell_type": "markdown",
   "id": "e171287a-7f76-4b12-ba5e-69182b2c8b78",
   "metadata": {},
   "source": [
    "### b) bruk av `print()`\n",
    "\n",
    "Bruk `print()` til å skrive ut resultate av regneoperasjonen $3\\cdot 10 - 17$. Pass på å inkludere forklarende tekst slik at utskriften blir noe som f.eks. `3 ganger 10 minus 17 er lik ...`.\n",
    "\n",
    "*P.S. symbolene `*` og `-` betyr henholdsvis multiplikasjon og subtraksjon i Python.*"
   ]
  },
  {
   "cell_type": "code",
   "execution_count": null,
   "id": "8cd4ee4f-90e5-4fcf-8b59-af902cf34b9b",
   "metadata": {},
   "outputs": [],
   "source": [
    "#-------------------------------------\n",
    "# SKRIV DIN KODE HER!\n",
    "#-------------------------------------"
   ]
  },
  {
   "cell_type": "markdown",
   "id": "6f435759-0ce7-4017-b6c7-a6f5a3b90dc1",
   "metadata": {},
   "source": [
    "## Kommentarer\n",
    "\n",
    "Kommentarer er tekst som kan tilføyes programkode som ikke vil kjøres som programkode. Kommentarer er en essensiell del av programmering, da de kan brukes til å gjøre programkoden mer forståelig for både deg selv og andre. I tillegg kan det hende man vil midlertidig fjerne noen kodelinjer fra et program, men ha muligheten til å sette de tilbake senere. Da er det nyttig å kommentere de vekk istedenfor å slette de fullstendig. \n",
    "\n",
    "Dette kan være særlig nyttig når man skal analysere data, så man vet hva hver analyse man kjører, skal gjøre. Det kan være vanskelig å huske hva man tenkte og hvorfor man tok grepene man tok, når man kommer tilbake til analysen en uke, måned eller år senere. Så skriv tydelige kommentarer! \n",
    "\n",
    "En kommentar skrives ved hjelp av symbolet `#`, som du sikkert allerede har sett i de to siste oppgavene med linjen `# Skriv din kode her:`. Alt som blir skrevet på en linje som kommer til vensre for en `#`, vil farges blått og regnes som en kommentar. Dette vil altså ignoreres av python dersom du trykker \"run\" på cellen.\n",
    "\n",
    "```Python\n",
    "# Dette er en kommentar\n",
    "print(\"Dette er ikke en kommentar\")\n",
    "```"
   ]
  },
  {
   "cell_type": "markdown",
   "id": "9e495983-51c1-48bd-a1b6-408742c03a0d",
   "metadata": {},
   "source": [
    "### c) kodekommentarer\n",
    "\n",
    "Legg til en linje med kommentar i kodecellen nedenfor med teksten \"Kommentarer er kult\""
   ]
  },
  {
   "cell_type": "code",
   "execution_count": null,
   "id": "2a34f7e1-39ea-409d-b213-ea6d8ededd04",
   "metadata": {},
   "outputs": [],
   "source": [
    "#-------------------------------------\n",
    "# SKRIV DIN KODE HER!\n",
    "#-------------------------------------"
   ]
  },
  {
   "cell_type": "markdown",
   "id": "580e4a6a-4e7d-4ddc-ba31-93827c80b43a",
   "metadata": {},
   "source": [
    "## Til info: tekstceller\n",
    "\n",
    "Teksten i tekstcellene slik som denne er skrevet med noe som heter *markdown*, som er et enkelt språk for tekstredigering. Med markdown kan man lage tabeller og punktlister, men også gjøre mer avanserte tign som å skrive matematiske formler og sette inn bilder.\n",
    "\n",
    "Dersom du dobbeltklikker på en tekstcelle vil du se kildeteksten som genererer den redigierte tekstcellen. For å få tilbake den lesbare utgaven, er det bare å velge \"run cell\" med tekstcellen markert. "
   ]
  }
 ],
 "metadata": {
  "kernelspec": {
   "display_name": "Python 3 (ipykernel)",
   "language": "python",
   "name": "python3"
  },
  "language_info": {
   "codemirror_mode": {
    "name": "ipython",
    "version": 3
   },
   "file_extension": ".py",
   "mimetype": "text/x-python",
   "name": "python",
   "nbconvert_exporter": "python",
   "pygments_lexer": "ipython3",
   "version": "3.12.8"
  }
 },
 "nbformat": 4,
 "nbformat_minor": 5
}
