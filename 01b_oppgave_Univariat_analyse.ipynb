{
 "cells": [
  {
   "cell_type": "markdown",
   "id": "072035be-26ed-41ce-891e-6046da2f0ca3",
   "metadata": {},
   "source": [
    "# Arbeidsark: Univariat Dataanalyse i Python\n",
    "\n",
    "## Målsetninger:\n",
    "- Laste inn et datasett fra en CSV-fil\n",
    "- Identifisere variabeltyper\n",
    "- Beregne beskrivende statistikk: gjennomsnitt, modus, median, varians og standardavvik\n",
    "- Visualisere variabler\n",
    "- Analysere manglende data\n",
    "- Lage nye variabler og lagre det oppdaterte datasettet\n",
    "\n",
    "## Oppgaver for modulen \n",
    "- Last inn datasettet og inspiser de første radene.\n",
    "- Klassifiser variablene som numeriske, kategoriske, ordinale eller binære..\n",
    "- Beregn beskrivende statistikk for én numerisk variabel.\n",
    "- Visualiser den valgte variabelen med en passende plot.\n",
    "- Lag en ny variabel basert på eksisterende variabler.\n",
    "- Lagre det modifiserte datasettet.\n",
    "\n",
    "### Aller første du må gjøre, er å importere biblioteker som skal brukes"
   ]
  },
  {
   "cell_type": "code",
   "execution_count": null,
   "id": "c94b5e2a-618f-4b70-8353-f422f6493494",
   "metadata": {},
   "outputs": [],
   "source": [
    "# Steg 1: Importer nødvendige biblioteker\n",
    "import pandas as pd\n",
    "import numpy as np\n",
    "import matplotlib.pyplot as plt\n",
    "\n"
   ]
  },
  {
   "cell_type": "markdown",
   "id": "5859126a-fa52-4653-aba4-b0b650f1a2d6",
   "metadata": {},
   "source": [
    "## 1. Last inn datasettet\n",
    "(Husk å kjør koden i data-cellene for å få resultater. Dette gjøres ved å sette markøren i cellen, og enten klikke [ctrl]+[enter] på tastaturet, eller klikke \"play\" knappen på menyen over."
   ]
  },
  {
   "cell_type": "code",
   "execution_count": null,
   "id": "994aed35-3bed-43f3-bd51-f9e810b4d692",
   "metadata": {},
   "outputs": [],
   "source": [
    "# Load the dataset from a CSV file\n",
    "# Replace 'your_file.csv' with the path to your dataset\n",
    "file_path = 'filen som skal analyseres'\n",
    "data = pd.read_csv(file_path)\n",
    "\n",
    "# Display the first few rows of the dataset\n",
    "data.head()"
   ]
  },
  {
   "cell_type": "markdown",
   "id": "866ffa66-1902-4230-91ea-10f4290c9a80",
   "metadata": {},
   "source": [
    "## 2. Identifisere variabeltyper og gjør datafilen klar for analyse\n",
    "\n",
    "\n",
    "Variabler kan være:\n",
    "\n",
    "- Numeriske (f.eks. høyde, alder, inntekt)\n",
    "- Kategoriske (f.eks. kjønn, land, utdanningsnivå)\n",
    "\n",
    "Dersom du vil definere type variabler, kan dette gjøres på følgende måte"
   ]
  },
  {
   "cell_type": "code",
   "execution_count": null,
   "id": "c6646b52-f830-4e90-b0e2-f70975eb4e9c",
   "metadata": {},
   "outputs": [],
   "source": [
    "# Use dtypes to identify variable types IF relevant\n",
    "data.dtypes\n",
    "\n",
    "# Manually classify variables into numerical and categorical groups\n",
    "\n",
    "# Convert column to categorical Merk: en linje pr. variabel \n",
    "data['variabel'] = data['variabel'].astype('category')\n",
    "\n",
    "\n",
    "# Ensure binary  columns are properly encoded\n",
    "binary_columns = ['variabel 1', 'variabel n']\n",
    "for col in binary_columns:\n",
    "    data[col] = data[col].astype(int)\n",
    "\n",
    "# Convert numeric columns from object to numeric, coercing errors\n",
    "numeric_columns = ['variabel 1', 'variabel n']\n",
    "for col in numeric_columns:\n",
    "    data[col] = pd.to_numeric(data[col], errors='coerce')\n",
    "   \n",
    "    # Reset index after cleaning\n",
    "    data = data.reset_index(drop=True)\n",
    "\n",
    "# Display summary information\n",
    "dataset_summary = data.describe()\n",
    "print(\"\\nDataset Summary:\\n\", dataset_summary)\n"
   ]
  },
  {
   "cell_type": "markdown",
   "id": "a7d44669-4309-4dad-a562-3e160e8636ae",
   "metadata": {},
   "source": [
    "## 3. Beskrivende /deskriptiv  statistikk\n",
    "Gjennomsnitt, median, modus, standardavvik og varians"
   ]
  },
  {
   "cell_type": "code",
   "execution_count": null,
   "id": "920c4497-7a3a-40b3-8447-c8f1089f2eeb",
   "metadata": {},
   "outputs": [],
   "source": [
    "# Select a numerical column for analysis (replace 'column_name1' with the actual column name)\n",
    "kolonne = 'variabel'\n",
    "\n",
    "antall = data[kolonne].count()\n",
    "manglende_data = data[kolonne].isnull().sum()\n",
    "gjennomsnitt = data[kolonne].mean()\n",
    "median = data[kolonne].median()\n",
    "modus = data[kolonne].mode()[0]\n",
    "std_avvik = data[kolonne].std()\n",
    "varians = data[kolonne].var()\n",
    "\n",
    "print(f\"Antall observasjoner: {antall}\")\n",
    "print(f\"Antall manglende verdier: {manglende_data}\")\n",
    "print(f\"Gjennomsnitt: {gjennomsnitt}\")\n",
    "print(f\"Median: {median}\")\n",
    "print(f\"Modus: {modus}\")\n",
    "print(f\"Standardavvik: {std_avvik}\")\n",
    "print(f\"Varians: {varians}\")"
   ]
  },
  {
   "cell_type": "code",
   "execution_count": null,
   "id": "ab607a38-20ee-428d-8f66-c03949443db5",
   "metadata": {},
   "outputs": [],
   "source": [
    "statistics = data.describe()\n",
    "\n",
    "print(statistics)"
   ]
  },
  {
   "cell_type": "markdown",
   "id": "07dc12bc-5cd6-4094-9c7d-ba8441be1e90",
   "metadata": {},
   "source": [
    "## 4. Visualisering\n",
    "### Histogram for numeriske data\n",
    "Oppgaven er å lage dette for en variable du ønsker å undersøke. "
   ]
  },
  {
   "cell_type": "code",
   "execution_count": null,
   "id": "3d8cd395-c795-43e8-89ca-cc6d37827eaf",
   "metadata": {},
   "outputs": [],
   "source": [
    "# Create a histogram for a numerical column. husk å bytte ut variabel navn for den du skal undersøke )\n",
    "plt.hist(data['variabel'], bins=10, color='blue', edgecolor='black')\n",
    "plt.title(f\"Histogram of {kolonne}\")\n",
    "plt.xlabel(kolonne)\n",
    "plt.ylabel(\"Frequency\")\n",
    "plt.show()"
   ]
  },
  {
   "cell_type": "markdown",
   "id": "520f88c0-c173-4da6-82f9-9494833b177b",
   "metadata": {},
   "source": [
    "### Stolpediagram for kategoriske data"
   ]
  },
  {
   "cell_type": "code",
   "execution_count": null,
   "id": "915d1401-6f90-4072-91e8-79fbcdbc4934",
   "metadata": {},
   "outputs": [],
   "source": [
    "# Create a bar chart for a categorical column (husk på at noen typer variabler passer som histogram, andre som stolpediagram (hint: tenk kategorisk variabel)\n",
    "categorical_column = 'variabel'\n",
    "data[categorical_column].value_counts().plot(kind='bar', color='green')\n",
    "plt.title(f\"Bar Chart of {categorical_column}\")\n",
    "plt.xlabel(categorical_column)\n",
    "plt.ylabel(\"Count\")\n",
    "plt.show()"
   ]
  },
  {
   "cell_type": "markdown",
   "id": "69a57eca-532a-40b1-96d8-aed74581af66",
   "metadata": {},
   "source": [
    "## 5. Lage en ny variabel\n",
    "Ofte ønsker vi å lage en ny variable, som kan lages fra eksisterende variabel \n",
    "I dette eksempellet, ønsker vi en variabel som viser hva hver ansatt får utbetalt, som da vil si både grunnlønn og bonus. Lag denne variabelen, og kall den: \"TotalLonn\". \n",
    "(under ser du hvordan man kan beregne BMI, her må du finne navn på variablene, og lage funksjonen selv)"
   ]
  },
  {
   "cell_type": "code",
   "execution_count": null,
   "id": "34bcadb8-8a27-46b6-8e0f-54057c9f83cc",
   "metadata": {},
   "outputs": [],
   "source": [
    "# Assuming the dataset has 'weight' (kg) and 'height' (m) columns\n",
    "data['BMI'] = data['weight'] / (data['height'] ** 2)\n",
    "\n",
    "# Display the first few rows of the dataset with the new variable\n",
    "data.head()"
   ]
  },
  {
   "cell_type": "markdown",
   "id": "7d332144-824b-44a8-b59d-71483d8ae9fc",
   "metadata": {},
   "source": [
    "## 6. Lagre det oppdaterte datasettet\n",
    "Husk å sett et fornuftig navn på denne filen."
   ]
  },
  {
   "cell_type": "code",
   "execution_count": null,
   "id": "6e9a57a5-2df5-41ca-815e-5523099f612a",
   "metadata": {},
   "outputs": [],
   "source": [
    "# Bruk denne koden om du vil oppdatere CSV filen du har jobbet på. Husk å oppdater filnavnet til det du har brukt.\n",
    "# Save the updated dataset to the original file\n",
    "data.to_csv('your_file.csv', index=False)\n",
    "print(\"Dataset has been updated in 'your_file.csv'\")\n",
    "\n"
   ]
  },
  {
   "cell_type": "code",
   "execution_count": null,
   "id": "b63cbde5-6bb7-4934-83d1-ff8bd5812ca3",
   "metadata": {},
   "outputs": [],
   "source": [
    "\n",
    "# Bruk denne koden om du vil lage en ny CSV fil (lurt for å beskytte orginalen)\n",
    "\n",
    "# Save the updated dataset to a new CSV file\n",
    "output_file_path = 'updated_file.csv'\n",
    "data.to_csv(output_file_path, index=False)\n",
    "print(f\"Dataset saved to {output_file_path}\")"
   ]
  },
  {
   "cell_type": "markdown",
   "id": "a357e3f7-922b-49d5-a3ca-6068f4e2a390",
   "metadata": {},
   "source": [
    "## 7. Drøft innsikter\n",
    "I analysene over, bør du ha fått noen innsikter fra analysene. Presenter disse her: \n",
    "(Hint: hva sier gjennomsnitt, median, standard avvik, m.m. om variablene du så på? \n",
    "\n",
    "### Skriv svaret her\n",
    "..."
   ]
  }
 ],
 "metadata": {
  "kernelspec": {
   "display_name": "Python 3 (ipykernel)",
   "language": "python",
   "name": "python3"
  },
  "language_info": {
   "codemirror_mode": {
    "name": "ipython",
    "version": 3
   },
   "file_extension": ".py",
   "mimetype": "text/x-python",
   "name": "python",
   "nbconvert_exporter": "python",
   "pygments_lexer": "ipython3",
   "version": "3.12.8"
  }
 },
 "nbformat": 4,
 "nbformat_minor": 5
}
