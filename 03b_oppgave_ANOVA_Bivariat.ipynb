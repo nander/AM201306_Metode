{
 "cells": [
  {
   "cell_type": "markdown",
   "id": "072035be-26ed-41ce-891e-6046da2f0ca3",
   "metadata": {},
   "source": [
    "# Arbeidsark: ANOVA og bivariat regresjonsanalyse i Python\n",
    "\n",
    "## Målsetninger:\n",
    "- Laste inn et datasett fra en CSV-fil\n",
    "- Utføre og tolke:\n",
    "  - Analyse av Varians (ANOVA)\n",
    "  - Bivariat Regressjonsanalyse\n",
    "  - Formelle tester for forutsetninger\n",
    "- Visualisere resultater for bedre tolkning\n",
    "\n",
    "## Oppgaver for modulen \n",
    "- Last inn datasettet og undersøk strukturen ved hjelp av .head() og .info().\n",
    "- Utfør ANOVA for å sammenligne gjennomsnitt på tvers av kategorier for en numerisk variabel.\n",
    "- Tilpass en bivariat regresjonsmodell og tolk resultatene.\n",
    "- Test forutsetningene for regresjon:\n",
    "    - Lineæritet\n",
    "    - Normalitet av residualer\n",
    "    - Homoskedastisitet\n",
    "- Visualiser resultatene ved hjelp av spredningsplott, boksplott og histogrammer.\n",
    "- Tolk funnene og diskuter betydningen av resultatene.\n",
    "\n",
    "### Aller første du må gjøre, er å importere biblioteker som skal brukes"
   ]
  },
  {
   "cell_type": "code",
   "execution_count": null,
   "id": "c94b5e2a-618f-4b70-8353-f422f6493494",
   "metadata": {},
   "outputs": [],
   "source": [
    "# Steg 1: Importer nødvendige biblioteker\n",
    "import pandas as pd\n",
    "import numpy as np\n",
    "import matplotlib.pyplot as plt\n",
    "import seaborn as sns\n",
    "from scipy.stats import f_oneway, shapiro\n",
    "from statsmodels.formula.api import ols\n",
    "import statsmodels.api as sm\n",
    "\n"
   ]
  },
  {
   "cell_type": "markdown",
   "id": "5859126a-fa52-4653-aba4-b0b650f1a2d6",
   "metadata": {},
   "source": [
    "## 1. Last inn datasettet\n",
    "(Husk å kjør koden i data-cellene for å få resultater. Dette gjøres ved å sette markøren i cellen, og enten klikke [ctrl]+[enter] på tastaturet, eller klikke \"play\" knappen på menyen over."
   ]
  },
  {
   "cell_type": "code",
   "execution_count": null,
   "id": "994aed35-3bed-43f3-bd51-f9e810b4d692",
   "metadata": {},
   "outputs": [],
   "source": [
    "# Last inn datasettet fra en CSV-fil\n",
    "# Bytt ut 'your_file.csv' med filstien til datasettet ditt\n",
    "file_path = 'filnavn'\n",
    "data = pd.read_csv(file_path)\n",
    "\n",
    "# Vis de første radene i datasettet\n",
    "data.head()"
   ]
  },
  {
   "cell_type": "markdown",
   "id": "447bf1f1-dc31-4167-9818-59e419b45148",
   "metadata": {},
   "source": [
    "## 1b: Still noen forskningsspørsmål\n",
    "Se på variablene, og lag noen aktuelle forsknignsspørsmål. Husk på kravene til gode spørsmål. \n",
    "Et slik kan være: \"Er det forskjell på lønn for menn og kvinner?\" "
   ]
  },
  {
   "cell_type": "markdown",
   "id": "d8be9859-29a6-48b7-ac8b-461dc190bbd2",
   "metadata": {},
   "source": [
    "### skriv inn spørsmål her: \n",
    "\n",
    "......\n"
   ]
  },
  {
   "cell_type": "markdown",
   "id": "866ffa66-1902-4230-91ea-10f4290c9a80",
   "metadata": {},
   "source": [
    "## 2. Analyse av Varians (ANOVA)\n",
    "ANOVA brukes til å sammenligne gjennomsnitt på tvers av flere grupper for en numerisk variabel.\n",
    "\n",
    "### oppgave:\n",
    "Utfør ANOVA for å sammenligne gjennomsnitt på tvers av kategorier for en numerisk variabel.\n"
   ]
  },
  {
   "cell_type": "code",
   "execution_count": null,
   "id": "c6646b52-f830-4e90-b0e2-f70975eb4e9c",
   "metadata": {},
   "outputs": [],
   "source": [
    "# Utfør ANOVA\n",
    "# Bytt ut 'numerical_column' med den numeriske variabelen og 'group_column' med gruppenavnet\n",
    "numerical_column = 'variable navn'\n",
    "group_column = 'variabel navn'\n",
    "\n",
    "# Grupper data etter den kategoriske variabelen\n",
    "groups = [group[numerical_column].dropna() for name, group in data.groupby(group_column)]\n",
    "\n",
    "# Utfør enveis ANOVA\n",
    "f_stat, p_value = f_oneway(*groups)\n",
    "\n",
    "print(f\"ANOVA-resultater: F-statistikk = {f_stat}, P-verdi = {p_value}\")\n",
    "\n",
    "# Tolkning\n",
    "if p_value < 0.05:\n",
    "    print(\"Det er en statistisk signifikant forskjell mellom gruppene.\")\n",
    "else:\n",
    "    print(\"Det er ingen statistisk signifikant forskjell mellom gruppe.\")\n",
    "\n",
    "# Visualiser gruppe snittene\n",
    "plt.figure(figsize=(8, 6))\n",
    "sns.boxplot(x=group_column, y=numerical_column, data=data)\n",
    "plt.title(f\"Boksplott av {numerical_column} etter {group_column}\")\n",
    "plt.xlabel(group_column)\n",
    "plt.ylabel(numerical_column)\n",
    "plt.show()"
   ]
  },
  {
   "cell_type": "markdown",
   "id": "a7d44669-4309-4dad-a562-3e160e8636ae",
   "metadata": {},
   "source": [
    "## 3. Bivariat Regressjonsanalyse\n",
    "Tilpasning av Regressjonsmodellen\n",
    "### oppgave:\n",
    "Tilpass en bivariat regresjonsmodell og tolk resultatene."
   ]
  },
  {
   "cell_type": "code",
   "execution_count": null,
   "id": "920c4497-7a3a-40b3-8447-c8f1089f2eeb",
   "metadata": {},
   "outputs": [],
   "source": [
    "# Tilpass en regresjonsmodell\n",
    "# Bytt ut 'y_column' med avhengig variabel og 'x_column' med uavhengig variabel\n",
    "y_column = 'variabel'\n",
    "x_column = 'variabel'\n",
    "\n",
    "# Lag og tilpass regresjonsmodellen\n",
    "X = sm.add_constant(data[x_column])  # Legg til konstant for skjæringspunkt\n",
    "model = sm.OLS(data[y_column], X).fit()\n",
    "\n",
    "# Vis oppsummering av modellen\n",
    "print(model.summary())"
   ]
  },
  {
   "cell_type": "markdown",
   "id": "07dc12bc-5cd6-4094-9c7d-ba8441be1e90",
   "metadata": {},
   "source": [
    "## 4. Test Forutsetningene for Regressjonsanalyse\n",
    "- a) Lineæritet\n",
    "- b) Normalitet av Residualer\n",
    "- c) Homoskedastisitet\n",
    "\n",
    "### oppgave:\n",
    "Test forutsetningene for regresjon:\r\n",
    "Lineæritet\r\n",
    "Normalitet av residualer\r\n",
    "Homoskedastisitet"
   ]
  },
  {
   "cell_type": "code",
   "execution_count": null,
   "id": "3d8cd395-c795-43e8-89ca-cc6d37827eaf",
   "metadata": {},
   "outputs": [],
   "source": [
    "# Visualiser sammenhengen\n",
    "# a) Lineæritet\n",
    "plt.figure(figsize=(8, 6))\n",
    "sns.scatterplot(x=data[x_column], y=data[y_column])\n",
    "plt.plot(data[x_column], model.fittedvalues, color='red', label='Regresjonslinje')\n",
    "plt.title(f\"Spredningsplott med Regresjonslinje: {x_column} vs {y_column}\")\n",
    "plt.xlabel(x_column)\n",
    "plt.ylabel(y_column)\n",
    "plt.legend()\n",
    "plt.show()\n",
    "\n",
    "# Normalitet av Residualer\n",
    "# Utfør Shapiro-Wilk test for normalitet av residualer\n",
    "residuals = model.resid\n",
    "stat, p_value = shapiro(residuals)\n",
    "\n",
    "print(f\"Shapiro-Wilk Test: Statistikk = {stat}, P-verdi = {p_value}\")\n",
    "\n",
    "if p_value < 0.05:\n",
    "    print(\"Residualene er ikke normalfordelte.\")\n",
    "else:\n",
    "    print(\"Residualene er normalfordelte.\")\n",
    "\n",
    "# Visualiser residualene\n",
    "sns.histplot(residuals, kde=True)\n",
    "plt.title(\"Histogram av Residualer\")\n",
    "plt.xlabel(\"Residualer\")\n",
    "plt.show()\n",
    "\n",
    "# c) Homoskedastisitet\n",
    "plt.figure(figsize=(8, 6))\n",
    "sns.scatterplot(x=model.fittedvalues, y=residuals)\n",
    "plt.axhline(0, color='red', linestyle='--')\n",
    "plt.title(\"Residualer vs Tilpassede Verdier\")\n",
    "plt.xlabel(\"Tilpassede Verdier\")\n",
    "plt.ylabel(\"Residualer\")\n",
    "plt.show()"
   ]
  },
  {
   "cell_type": "markdown",
   "id": "a357e3f7-922b-49d5-a3ca-6068f4e2a390",
   "metadata": {},
   "source": [
    "## 5. Drøft innsikter\n",
    "I analysene over, bør du ha fått noen innsikter fra analysene, og tolk visualiseringene. Presenter disse her: \n",
    "(Hint: hva ser du om sammenheng mellom forskjellige typer variabler: kategoriske, numeriske, m.m. om variablene du så på?)\n",
    "Sørg for at du har svart på spørsmålene du stilte øverst. \n",
    "\n",
    "### Skriv svaret her\n",
    "..."
   ]
  }
 ],
 "metadata": {
  "kernelspec": {
   "display_name": "Python 3 (ipykernel)",
   "language": "python",
   "name": "python3"
  },
  "language_info": {
   "codemirror_mode": {
    "name": "ipython",
    "version": 3
   },
   "file_extension": ".py",
   "mimetype": "text/x-python",
   "name": "python",
   "nbconvert_exporter": "python",
   "pygments_lexer": "ipython3",
   "version": "3.12.8"
  }
 },
 "nbformat": 4,
 "nbformat_minor": 5
}
