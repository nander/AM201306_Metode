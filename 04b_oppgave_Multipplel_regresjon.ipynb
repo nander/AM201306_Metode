{
 "cells": [
  {
   "cell_type": "markdown",
   "id": "072035be-26ed-41ce-891e-6046da2f0ca3",
   "metadata": {},
   "source": [
    "# Arbeidsark: Multivariat Dataanalyse i Python\n",
    "\n",
    "## Målsetninger:\n",
    "- Laste inn et datasett fra en CSV-fil.\n",
    "- Utføre multivariat regresjonsanalyse ved hjelp av Ordinære Minste Kvadraters (OLS) metode.\n",
    "- Teste forutsetningene for OLS-regresjon:\n",
    "  - Linearitet\n",
    "  - Homoskedastisitet\n",
    "  - Normalitet av residualer\n",
    "  - Multikollinearitet\n",
    "- Bruke dummyvariabler i regresjonsmodeller.\n",
    "- Tolke R-square, justert R-squared, koeffisienter og signifikanstester.\n",
    "- Visualisere nøkkelresultater.\n",
    "\n",
    "## Oppgaver for modulen \n",
    "- Last inn datasettet og undersøk strukturen ved hjelp av .head() og .info().\n",
    "- Utfør OLS-regresjon ved å bruke de oppgitte variablene.\n",
    "- Tolk resultatene: Diskuter R-kvadrat, justert R-kvadrat, koeffisienter og p-verdier.\n",
    "- Test forutsetningene for OLS-regresjon og rapporter funnene.\n",
    "- Arbeid med dummyvariabler: Inkluder en kategorisk variabel i regresjonsmodellen og tolk koeffisientene.\n",
    "- Visualiser resultatene for å støtte analysen din.\n",
    "\n",
    "### Aller første du må gjøre, er å importere biblioteker som skal brukes"
   ]
  },
  {
   "cell_type": "code",
   "execution_count": null,
   "id": "c94b5e2a-618f-4b70-8353-f422f6493494",
   "metadata": {},
   "outputs": [],
   "source": [
    "# Steg 1: Importer nødvendige biblioteker\n",
    "import pandas as pd\n",
    "import numpy as np\n",
    "import matplotlib.pyplot as plt\n",
    "import seaborn as sns\n",
    "import statsmodels.api as sm\n",
    "import statsmodels.formula.api as smf\n",
    "from statsmodels.stats.diagnostic import het_breuschpagan\n",
    "from statsmodels.stats.outliers_influence import variance_inflation_factor\n",
    "\n"
   ]
  },
  {
   "cell_type": "markdown",
   "id": "5859126a-fa52-4653-aba4-b0b650f1a2d6",
   "metadata": {},
   "source": [
    "## 1. Last inn datasettet\n",
    "(Husk å kjør koden i data-cellene for å få resultater. Dette gjøres ved å sette markøren i cellen, og enten klikke [ctrl]+[enter] på tastaturet, eller klikke \"play\" knappen på menyen over."
   ]
  },
  {
   "cell_type": "code",
   "execution_count": null,
   "id": "994aed35-3bed-43f3-bd51-f9e810b4d692",
   "metadata": {},
   "outputs": [],
   "source": [
    "# Last inn datasettet fra en CSV-fil\n",
    "# Bytt ut 'your_file.csv' med filstien til datasettet ditt\n",
    "file_path = 'datafil'\n",
    "data = pd.read_csv(file_path)\n",
    "\n",
    "# Vis de første radene i datasettet\n",
    "data.head()"
   ]
  },
  {
   "cell_type": "code",
   "execution_count": null,
   "id": "14b12445-7069-4111-b083-9034be847253",
   "metadata": {},
   "outputs": [],
   "source": []
  },
  {
   "cell_type": "markdown",
   "id": "447bf1f1-dc31-4167-9818-59e419b45148",
   "metadata": {},
   "source": [
    "## 1b: Still noen forskningsspørsmål\n",
    "Se på variablene, og lag noen aktuelle forsknignsspørsmål. Husk på kravene til gode spørsmål. \n",
    "Et slik kan være: \"Hvordan påvirker kjønn, alder og utdanning grunnlønnen til ansatte i dette firmaet?\" "
   ]
  },
  {
   "cell_type": "markdown",
   "id": "d8be9859-29a6-48b7-ac8b-461dc190bbd2",
   "metadata": {},
   "source": [
    "### skriv inn spørsmål her: \n",
    "\n",
    "......\n"
   ]
  },
  {
   "cell_type": "markdown",
   "id": "866ffa66-1902-4230-91ea-10f4290c9a80",
   "metadata": {},
   "source": [
    "## 2. Utfør OLS-regresjon\n",
    "OLS brukes for å estimere påvirkningen av uavhengig variabler på en avhengig variable, den vi er interessert i forstå.\n",
    "\n",
    "### oppgave:\n",
    "- Utfør OLS-regresjon ved å bruke et utvalg av variabler som svarer på spørsmålet du har stilt over.\n",
    "- forsøk å still et spørsmål som inkluderer kjønn. (Hint: du må gjøre noe med variablene for å kunne bruke den i OLS regresjon)\n"
   ]
  },
  {
   "cell_type": "code",
   "execution_count": null,
   "id": "c6646b52-f830-4e90-b0e2-f70975eb4e9c",
   "metadata": {},
   "outputs": [],
   "source": [
    "# Definer avhengige og uavhengige variabler\n",
    "# Bytt ut 'dependent_var' med navnet på din avhengige variabel\n",
    "# Bytt ut 'independent_var1', 'independent_var2', osv. med navnene på dine uavhengige variabler\n",
    "dependent_var = 'variabel'\n",
    "independent_vars = ['variabel', 'variabel']  # Legg til flere variabler om nødvendig\n",
    "\n",
    "# Legg til en konstant for intercept\n",
    "X = sm.add_constant(data[independent_vars])\n",
    "y = data[dependent_var]\n",
    "\n",
    "# Utfør OLS-regresjonsanalyse\n",
    "model = sm.OLS(y, X).fit()\n",
    "\n",
    "# Skriv ut sammendraget av regresjonsmodellen\n",
    "print(model.summary())\n"
   ]
  },
  {
   "cell_type": "markdown",
   "id": "a7d44669-4309-4dad-a562-3e160e8636ae",
   "metadata": {},
   "source": [
    "## 3. Tolke Resultatene\n",
    "R-kvadrat: Prosentandel av variansen forklart av modellen.\n",
    "Justerte R-kvadrat: Justert for antall prediktorer.\n",
    "Koeffisienter: Viser effekten av hver uavhengig variabel på den avhengige variabelen.\n",
    "P-verdier: Tester nullhypotesen om at koeffisienten er null.\n",
    "### oppgave:\n",
    "Forklar hva hver av disse vil si, gitt modellen over."
   ]
  },
  {
   "cell_type": "markdown",
   "id": "07dc12bc-5cd6-4094-9c7d-ba8441be1e90",
   "metadata": {},
   "source": [
    "## 4. Test Forutsetningene for Regressjonsanalyse\n",
    "- a) Lineæritet\n",
    "- b) Normalitet av Residualer\n",
    "- c) Homoskedastisitet\n",
    "- d) Multikollinearitetet"
   ]
  },
  {
   "cell_type": "code",
   "execution_count": null,
   "id": "3d8cd395-c795-43e8-89ca-cc6d37827eaf",
   "metadata": {},
   "outputs": [],
   "source": [
    "# Visualiser sammenhengen\n",
    "# a) Lineæritet\n",
    "sns.pairplot(data, x_vars=independent_vars, y_vars=dependent_var, kind='reg')\n",
    "plt.show()\n",
    "# Forslag til tolkning etter visualisering\n",
    "print(\"Tolk plottet:\")\n",
    "print(\"- Se etter positive eller negative sammenhenger mellom variablene.\")\n",
    "print(\"- Undersøk om punktene klustrer seg rundt regresjonslinjen for å vurdere styrken på sammenhengen.\")\n",
    "print(\"- Identifiser uteliggere eller ikke-lineære mønstre.\")\n",
    "print(\"- Vurder spredningen av punktene for å evaluere konsistensen i variansen.\")\n",
    "\n"
   ]
  },
  {
   "cell_type": "code",
   "execution_count": null,
   "id": "dd8079d3-4173-4853-955f-2b0e04315816",
   "metadata": {},
   "outputs": [],
   "source": [
    "# b) Normalitet av Residualer\n",
    "# Plot histogram og Q-Q-plott av residualer\n",
    "#residuals = model.resid\n",
    "\n",
    "standardized_residuals = (residuals - residuals.mean()) / residuals.std()\n",
    "sm.qqplot(standardized_residuals, line='45')\n",
    "plt.title('Q-Q Plot of Standardized Residuals')\n",
    "plt.show()\n",
    "\n",
    "print(\"Tolkning av Q-Q-plott:\")\n",
    "print(\"- Hvis punktene følger den diagonale linjen tett, er residualene tilnærmet normalfordelt.\")\n",
    "print(\"- Avvik fra linjen, spesielt i ytterkantene, kan indikere avvik fra normalfordeling.\")\n",
    "\n",
    "#Shapiro Wilks\n",
    "from scipy.stats import shapiro\n",
    "\n",
    "# Perform Shapiro-Wilk test\n",
    "shapiro_stat, shapiro_p = shapiro(standardized_residuals)\n",
    "\n",
    "print(f\"Shapiro-Wilk Test Statistic: {shapiro_stat}\")\n",
    "print(f\"P-value: {shapiro_p}\")\n",
    "\n",
    "# Tolkning av Shapiro-Wilk-test\n",
    "if shapiro_p < 0.05:\n",
    "    print(\"Residualene er ikke normalfordelt (p < 0.05). Dette kan påvirke gyldigheten av enkelte regresjonsanalyser.\")\n",
    "else:\n",
    "    print(\"Residualene er normalfordelt (p ≥ 0.05). Dette støtter en av forutsetningene for OLS-regresjon.\")\n",
    "\n"
   ]
  },
  {
   "cell_type": "code",
   "execution_count": null,
   "id": "c21b68c5-eec7-443c-ac5f-5cf689e72514",
   "metadata": {},
   "outputs": [],
   "source": [
    "# c) Homoskedastisitet\n",
    "# Utfør Breusch-Pagan-test for homoskedastisitet\n",
    "_, pval, _, _ = het_breuschpagan(model.resid, model.model.exog)\n",
    "print(f\"P-verdi for homoskedastisitet: {pval}\")\n",
    "if pval < 0.05:\n",
    "    print(\"Modellen har heteroskedastisitet (p < 0.05).\")\n",
    "else:\n",
    "    print(\"Modellen har ikke heteroskedastisitet (p ≥ 0.05).\")\n"
   ]
  },
  {
   "cell_type": "code",
   "execution_count": null,
   "id": "a47e187a-4865-4673-b707-9dfc746e5c0e",
   "metadata": {},
   "outputs": [],
   "source": [
    "# d) Multikollinearitet\n",
    "# Beregn Variance Inflation Factor (VIF) for hver prediktor\n",
    "vif_data = pd.DataFrame()\n",
    "vif_data[\"Variable\"] = X.columns\n",
    "vif_data[\"VIF\"] = [variance_inflation_factor(X.values, i) for i in range(X.shape[1])]\n",
    "\n",
    "print(\"Variance Inflation Factor (VIF):\")\n",
    "print(vif_data)\n",
    "# Tolkning av VIF\n",
    "print(\"\\nTolkning av VIF:\")\n",
    "print(\"- En VIF-verdi under 5 indikerer lav multikollinearitet, noe som er akseptabelt.\")\n",
    "print(\"- En VIF-verdi mellom 5 og 10 kan indikere moderat multikollinearitet.\")\n",
    "print(\"- En VIF-verdi over 10 indikerer høy multikollinearitet, og variabelen kan forårsake problemer i regresjonsmodellen.\")"
   ]
  },
  {
   "cell_type": "markdown",
   "id": "933a0c27-e3d5-4bde-bad4-7b872dad6fb5",
   "metadata": {},
   "source": [
    "## 5. Bruk av Dummyvariabler\n",
    "For å analysere kategoriske variabler i en regresjonsmodell, må de konverteres til numerisk. Dette gjøres ved å bruke Dummy variabler, der det er en mindre dummy-variable enn alternative kategorier. (Slå opp mer om dummyvariabler om du er usikker)"
   ]
  },
  {
   "cell_type": "code",
   "execution_count": null,
   "id": "f98a095b-889d-4d4c-9199-93aa89e7ac82",
   "metadata": {},
   "outputs": [],
   "source": [
    "# Opprett dummyvariabler for en kategorisk variabel\n",
    "# Bytt ut 'categorical_var' med navnet på din kategoriske variabel\n",
    "\n",
    "# Create dummy variables for 'edu'\n",
    "edu_dummies = pd.get_dummies(data['variabel'], prefix='det du vil ha forran verdien i variabelen')\n",
    "\n",
    "# Convert True/False to 1/0\n",
    "edu_dummies = edu_dummies.astype(int)  \n",
    "\n",
    "# Concatenate dummy variables to the original DataFrame\n",
    "data = pd.concat([data, edu_dummies], axis=1)\n",
    "\n",
    "# Vis de første radene i datasettet\n",
    "data.head()\n",
    "\n"
   ]
  },
  {
   "cell_type": "markdown",
   "id": "fa47815a-f122-4070-8ff4-b687b438f737",
   "metadata": {},
   "source": [
    "## 5b. OLS med dummyvariabler\n",
    "Kjør ny regresjon med dummyvariabler"
   ]
  },
  {
   "cell_type": "code",
   "execution_count": null,
   "id": "33ec7daa-552e-4b3a-bd86-e756fb20c496",
   "metadata": {},
   "outputs": [],
   "source": [
    "# Definer avhengige og uavhengige variabler\n",
    "# Bytt ut 'dependent_var' med navnet på din avhengige variabel\n",
    "# Bytt ut 'independent_var1', 'independent_var2', osv. med navnene på dine uavhengige variabler\n",
    "dependent_var = 'variabel'\n",
    "independent_vars = ['variabel', 'variabel', 'dummy_variabel_1', 'dummy_variabel_2', 'så mange fler du trenger']  # Legg til flere variabler om nødvendig\n",
    "\n",
    "# Legg til en konstant for intercept\n",
    "X = sm.add_constant(data[independent_vars])\n",
    "y = data[dependent_var]\n",
    "\n",
    "# Utfør OLS-regresjonsanalyse\n",
    "model = sm.OLS(y, X).fit()\n",
    "\n",
    "# Skriv ut sammendraget av regresjonsmodellen\n",
    "print(model.summary())"
   ]
  },
  {
   "cell_type": "markdown",
   "id": "31b3171c-4152-4c0e-bc6f-5e43de83dbb0",
   "metadata": {},
   "source": [
    "## 6. Visualiser Nøkkelresultater\n",
    "- Regresjonslinje for en Enkeltprediktor\n",
    "- Koeffisientplot"
   ]
  },
  {
   "cell_type": "code",
   "execution_count": null,
   "id": "0440e760-bebd-4091-9fa7-60aff91de4a8",
   "metadata": {},
   "outputs": [],
   "source": [
    "# Visualiser regresjonslinjen for en uavhengig variabel\n",
    "# Bytt ut 'independent_var1' med navnet på prediktoren\n",
    "sns.regplot(x='independent_var1', y=dependent_var, data=data)\n",
    "plt.title(f\"Regresjonslinje: {dependent_var} vs perfEval\")\n",
    "plt.xlabel('independent_var1')\n",
    "plt.ylabel(dependent_var)\n",
    "plt.show()\n",
    "\n"
   ]
  },
  {
   "cell_type": "code",
   "execution_count": null,
   "id": "568e6478-7bd6-440b-b4c2-aa18b442d80f",
   "metadata": {},
   "outputs": [],
   "source": [
    "# Plot koeffisienter og konfidensintervaller\n",
    "coefficients = model.params\n",
    "conf_int = model.conf_int()\n",
    "plt.figure(figsize=(8, 6))\n",
    "plt.errorbar(coefficients.index, coefficients, \n",
    "             yerr=[coefficients - conf_int[0], conf_int[1] - coefficients], fmt='o')\n",
    "plt.axhline(0, color='red', linestyle='--')\n",
    "plt.title(\"Koeffisienter og Konfidensintervaller\")\n",
    "plt.xticks(rotation=45)\n",
    "plt.show()\n",
    "\n"
   ]
  },
  {
   "cell_type": "markdown",
   "id": "a357e3f7-922b-49d5-a3ca-6068f4e2a390",
   "metadata": {},
   "source": [
    "## 5. Drøft innsikter\n",
    "I analysene over, bør du ha fått noen innsikter fra analysene, og tolk visualiseringene. Presenter disse her: \n",
    "(Hint: hva ser du om sammenheng mellom forskjellige typer variabler: kategoriske, numeriske, m.m. om variablene du så på?)\n",
    "Sørg for at du har svart på spørsmålene du stilte øverst. \n",
    "\n",
    "### Skriv svaret her\n",
    "..."
   ]
  }
 ],
 "metadata": {
  "kernelspec": {
   "display_name": "Python 3 (ipykernel)",
   "language": "python",
   "name": "python3"
  },
  "language_info": {
   "codemirror_mode": {
    "name": "ipython",
    "version": 3
   },
   "file_extension": ".py",
   "mimetype": "text/x-python",
   "name": "python",
   "nbconvert_exporter": "python",
   "pygments_lexer": "ipython3",
   "version": "3.12.8"
  }
 },
 "nbformat": 4,
 "nbformat_minor": 5
}
